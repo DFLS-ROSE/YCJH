{
 "cells": [
  {
   "cell_type": "markdown",
   "metadata": {},
   "source": [
    "https://blog.csdn.net/lynn_001/article/details/86688061"
   ]
  },
  {
   "cell_type": "code",
   "execution_count": null,
   "metadata": {},
   "outputs": [
    {
     "ename": "",
     "evalue": "",
     "output_type": "error",
     "traceback": [
      "\u001b[1;31m运行具有“first”的单元格需要ipykernel包。\n",
      "\u001b[1;31m运行以下命令，将 \"ipykernel\" 安装到 Python 环境中。\n",
      "\u001b[1;31m命令: \"conda install -n first ipykernel --update-deps --force-reinstall\""
     ]
    }
   ],
   "source": [
    "from sklearn.linear_model import LinearRegression\n",
    "from sklearn.model_selection import train_test_split\n",
    "from sklearn.datasets import load_wine\n",
    "from sklearn import metrics\n",
    "import numpy as np\n",
    "import pandas as pd\n",
    "import matplotlib.pyplot as plt"
   ]
  },
  {
   "cell_type": "code",
   "execution_count": null,
   "metadata": {},
   "outputs": [
    {
     "ename": "",
     "evalue": "",
     "output_type": "error",
     "traceback": [
      "\u001b[1;31m运行具有“first”的单元格需要ipykernel包。\n",
      "\u001b[1;31m运行以下命令，将 \"ipykernel\" 安装到 Python 环境中。\n",
      "\u001b[1;31m命令: \"conda install -n first ipykernel --update-deps --force-reinstall\""
     ]
    }
   ],
   "source": [
    "data = pd.read_csv(\"Anscombe's Quartet\\\\IV.csv\")\n",
    "\n",
    "x = data['x'].values.reshape(-1, 1)\n",
    "y = data['y']  \n",
    "# x_train,x_test,y_train,y_test = train_test_split(x,y,random_state=1)\n",
    "# print(x_train.shape,x_test.shape)\n",
    "# print(y_train.shape,y_test.shape)\n",
    "x_train, x_test, y_train, y_test = train_test_split(data['x'].values.reshape(-1, 1), data['y'], random_state=1)  \n",
    "model = LinearRegression()  \n",
    "model.fit(x_train, y_train)  \n",
    "k = model.coef_[0]\n",
    "b = model.intercept_\n",
    "# # x.head()\n",
    "# print(x_)\n",
    "x_ = np.linspace(1,20,1000)\n",
    "plt.scatter(x,y)\n",
    "plt.plot(x_,x_*k+b)\n",
    "# # data3.head()\n"
   ]
  }
 ],
 "metadata": {
  "kernelspec": {
   "display_name": "Python 3",
   "language": "python",
   "name": "python3"
  },
  "language_info": {
   "codemirror_mode": {
    "name": "ipython",
    "version": 3
   },
   "file_extension": ".py",
   "mimetype": "text/x-python",
   "name": "python",
   "nbconvert_exporter": "python",
   "pygments_lexer": "ipython3",
   "version": "3.12.2"
  }
 },
 "nbformat": 4,
 "nbformat_minor": 2
}
